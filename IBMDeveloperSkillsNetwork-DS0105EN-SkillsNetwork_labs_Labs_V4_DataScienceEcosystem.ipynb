{
  "metadata": {
    "language_info": {
      "codemirror_mode": {
        "name": "python",
        "version": 3
      },
      "file_extension": ".py",
      "mimetype": "text/x-python",
      "name": "python",
      "nbconvert_exporter": "python",
      "pygments_lexer": "ipython3",
      "version": "3.8"
    },
    "kernelspec": {
      "name": "python",
      "display_name": "Python (Pyodide)",
      "language": "python"
    }
  },
  "nbformat_minor": 4,
  "nbformat": 4,
  "cells": [
    {
      "cell_type": "code",
      "source": "Ejercicio 2: crea una celda de descuento con el título del cuaderno",
      "metadata": {},
      "execution_count": null,
      "outputs": []
    },
    {
      "cell_type": "markdown",
      "source": "# Data Science Tools and Ecosystem",
      "metadata": {}
    },
    {
      "cell_type": "code",
      "source": "Ejercicio 10: inserte una celda de descuento para enumerar los objetivos",
      "metadata": {
        "tags": []
      },
      "execution_count": null,
      "outputs": []
    },
    {
      "cell_type": "markdown",
      "source": "**Objectives:**\n\n- List popular languages for Data Science.\n- Explore common libraries used by Data Scientists.\n- Provide examples of evaluating arithmetic expressions in Python.\n- Discuss key tools and ecosystem in the Data Science field.",
      "metadata": {}
    },
    {
      "cell_type": "code",
      "source": "Ejercicio 3: crea una celda de descuento para una introducción",
      "metadata": {},
      "execution_count": null,
      "outputs": []
    },
    {
      "cell_type": "markdown",
      "source": "In this notebook, Data Science Tools and Ecosystem are summarized.\n",
      "metadata": {}
    },
    {
      "cell_type": "code",
      "source": "Ejercicio 4: cree una celda de descuento para enumerar los lenguajes de ciencia de datos",
      "metadata": {},
      "execution_count": null,
      "outputs": []
    },
    {
      "cell_type": "markdown",
      "source": "Some of the popular languages that Data Scientists use are:\n\n1. Python\n2. R\n3. Julia\n",
      "metadata": {
        "tags": []
      }
    },
    {
      "cell_type": "code",
      "source": "Ejercicio 5: cree una celda de descuento para enumerar las bibliotecas de ciencia de datos",
      "metadata": {},
      "execution_count": null,
      "outputs": []
    },
    {
      "cell_type": "markdown",
      "source": "Some of the commonly used libraries used by Data Scientists include:\n\n1. pandas\n2. NumPy\n3. scikit-learn\n4. Matplotlib",
      "metadata": {}
    },
    {
      "cell_type": "code",
      "source": "Ejercicio 6: cree una celda de descuento con una tabla de herramientas de ciencia de datos",
      "metadata": {},
      "execution_count": null,
      "outputs": []
    },
    {
      "cell_type": "markdown",
      "source": "| Data Science Tools |\n|--------------------|\n| Jupyter Notebook   |\n| RStudio            |\n| Visual Studio Code |",
      "metadata": {
        "tags": []
      }
    },
    {
      "cell_type": "code",
      "source": "Ejercicio 7: cree una celda de descuento que presente ejemplos de expresiones aritméticas",
      "metadata": {},
      "execution_count": null,
      "outputs": []
    },
    {
      "cell_type": "markdown",
      "source": "> ### Below are a few examples of evaluating arithmetic expressions in Python.\n>\n> Here are some examples of arithmetic expressions and their evaluations using Python:\n>\n> 1. Addition:\n>    ```\n>    result = 5 + 3\n>    print(result)  # Output: 8\n>    ```\n>\n> 2. Subtraction:\n>    ```\n>    result = 10 - 4\n>    print(result)  # Output: 6\n>    ```\n>\n> 3. Multiplication:\n>    ```\n>    result = 6 * 7\n>    print(result)  # Output: 42\n>    ```\n>\n> 4. Division:\n>    ```\n>    result = 15 / 3\n>    print(result)  # Output: 5.0\n>    ```\n>\n> 5. Exponentiation:\n>    ```\n>    result = 2 ** 4\n>    print(result)  # Output: 16\n>    ```\n\n",
      "metadata": {
        "tags": []
      }
    },
    {
      "cell_type": "code",
      "source": "Ejercicio 8: crea una celda de código para multiplicar y sumar números",
      "metadata": {},
      "execution_count": null,
      "outputs": []
    },
    {
      "cell_type": "code",
      "source": "#This a simple arithmetic expression to mutiply then add integers.\n(3*4)+5",
      "metadata": {
        "trusted": true
      },
      "execution_count": 9,
      "outputs": [
        {
          "execution_count": 9,
          "output_type": "execute_result",
          "data": {
            "text/plain": "17"
          },
          "metadata": {}
        }
      ]
    },
    {
      "cell_type": "code",
      "source": "Ejercicio 9: cree una celda de código para convertir minutos a horas",
      "metadata": {},
      "execution_count": null,
      "outputs": []
    },
    {
      "cell_type": "code",
      "source": " #This will convert 200 minutes to hours by diving by 60.\nminutes = 200\nhours = minutes / 60\nprint(\"200 minutes is equal to\", hours, \"hours\")  # Output: 200 minutes es igual 3.3333333333333335 hours",
      "metadata": {
        "trusted": true
      },
      "execution_count": 8,
      "outputs": [
        {
          "name": "stdout",
          "text": "200 minutes is equal to 3.3333333333333335 hours\n",
          "output_type": "stream"
        }
      ]
    },
    {
      "cell_type": "code",
      "source": "Ejercicio 10: inserte una celda de descuento para enumerar los objetivos",
      "metadata": {},
      "execution_count": null,
      "outputs": []
    },
    {
      "cell_type": "markdown",
      "source": "## Author\nJhoan Sebastian F.",
      "metadata": {}
    },
    {
      "cell_type": "code",
      "source": "",
      "metadata": {},
      "execution_count": null,
      "outputs": []
    }
  ]
}